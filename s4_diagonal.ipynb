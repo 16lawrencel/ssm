{
 "cells": [
  {
   "cell_type": "code",
   "execution_count": null,
   "metadata": {},
   "outputs": [],
   "source": [
    "%load_ext autoreload\n",
    "%autoreload 2\n",
    "\n",
    "import torch\n",
    "from torch import nn\n",
    "\n",
    "import lightning as L\n",
    "\n",
    "from pathlib import Path"
   ]
  },
  {
   "cell_type": "code",
   "execution_count": null,
   "metadata": {},
   "outputs": [],
   "source": [
    "from src.datasets.listops import ListopsDataset\n",
    "from torch.utils.data import DataLoader\n",
    "\n",
    "listops_path = Path(\"../datasets\") / \"lra_release\" / \"listops-1000\"\n",
    "listops_train_path = listops_path / \"basic_train.tsv\"\n",
    "listops_val_path = listops_path / \"basic_val.tsv\"\n",
    "\n",
    "train_dataset = ListopsDataset(listops_train_path)\n",
    "train_dataloader = DataLoader(train_dataset, batch_size=50, shuffle=False)\n",
    "\n",
    "val_dataset = ListopsDataset(listops_val_path)\n",
    "val_dataloader = DataLoader(val_dataset, batch_size=50, shuffle=False)"
   ]
  },
  {
   "cell_type": "code",
   "execution_count": null,
   "metadata": {},
   "outputs": [],
   "source": [
    "from src.models.s4 import SequenceModule\n",
    "\n",
    "vocab_size = train_dataset.vocab_size\n",
    "depth = 6\n",
    "n = 64\n",
    "h = 128\n",
    "num_epochs = 50\n",
    "# checkpoint_path = Path(\"checkpoints\") / \"listops\"\n",
    "\n",
    "model = SequenceModule(vocab_size, depth, n, h)\n",
    "\n",
    "trainer = L.Trainer(accelerator=\"cpu\", limit_train_batches=2, max_epochs=3)\n",
    "trainer.fit(model, train_dataloader, val_dataloader)\n",
    "\n"
   ]
  },
  {
   "cell_type": "code",
   "execution_count": null,
   "metadata": {},
   "outputs": [],
   "source": []
  }
 ],
 "metadata": {
  "kernelspec": {
   "display_name": "torch",
   "language": "python",
   "name": "python3"
  },
  "language_info": {
   "codemirror_mode": {
    "name": "ipython",
    "version": 3
   },
   "file_extension": ".py",
   "mimetype": "text/x-python",
   "name": "python",
   "nbconvert_exporter": "python",
   "pygments_lexer": "ipython3",
   "version": "3.12.1"
  }
 },
 "nbformat": 4,
 "nbformat_minor": 2
}
