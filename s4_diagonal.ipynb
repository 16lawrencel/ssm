{
 "cells": [
  {
   "cell_type": "code",
   "execution_count": null,
   "metadata": {},
   "outputs": [],
   "source": [
    "%load_ext autoreload\n",
    "%autoreload 2\n",
    "\n",
    "import torch\n",
    "from torch import nn\n",
    "\n",
    "from pathlib import Path"
   ]
  },
  {
   "cell_type": "code",
   "execution_count": null,
   "metadata": {},
   "outputs": [],
   "source": [
    "from src.datasets.listops import ListopsDataset\n",
    "from torch.utils.data import DataLoader\n",
    "\n",
    "listops_path = Path(\"../datasets\") / \"lra_release\" / \"listops-1000\"\n",
    "listops_train_path = listops_path / \"basic_train.tsv\"\n",
    "\n",
    "train_dataset = ListopsDataset(listops_train_path)\n",
    "train_dataloader = DataLoader(train_dataset, batch_size=1, shuffle=False)"
   ]
  },
  {
   "cell_type": "code",
   "execution_count": null,
   "metadata": {},
   "outputs": [],
   "source": [
    "from torch.optim import AdamW\n",
    "from torch.optim.lr_scheduler import ExponentialLR\n",
    "\n",
    "from src.models.s4 import S4\n",
    "from src.train import train\n",
    "\n",
    "vocab_size = train_dataset.vocab_size\n",
    "depth = 6\n",
    "n = 64\n",
    "h = 128\n",
    "lr = 0.001\n",
    "num_epochs = 50\n",
    "checkpoint_path = Path(\"checkpoints\") / \"listops\"\n",
    "device = \"cpu\"\n",
    "\n",
    "model = S4(vocab_size, depth, n, h)\n",
    "optim = AdamW(model.parameters(), lr)\n",
    "scheduler = ExponentialLR(optim, gamma=0.9)\n",
    "loss_fn = nn.MSELoss()\n",
    "\n",
    "train(model=model, dataloader=train_dataloader, optim=optim, loss_fn=loss_fn, num_epochs=num_epochs, checkpoint_path=checkpoint_path, device=device)\n"
   ]
  },
  {
   "cell_type": "code",
   "execution_count": null,
   "metadata": {},
   "outputs": [],
   "source": []
  }
 ],
 "metadata": {
  "kernelspec": {
   "display_name": "torch",
   "language": "python",
   "name": "python3"
  },
  "language_info": {
   "codemirror_mode": {
    "name": "ipython",
    "version": 3
   },
   "file_extension": ".py",
   "mimetype": "text/x-python",
   "name": "python",
   "nbconvert_exporter": "python",
   "pygments_lexer": "ipython3",
   "version": "3.12.1"
  }
 },
 "nbformat": 4,
 "nbformat_minor": 2
}
